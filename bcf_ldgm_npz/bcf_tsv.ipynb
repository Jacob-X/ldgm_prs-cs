{
 "cells": [
  {
   "cell_type": "code",
   "execution_count": null,
   "id": "initial_id",
   "metadata": {
    "collapsed": true
   },
   "outputs": [],
   "source": [
    "import pysam\n",
    "import csv\n",
    "\n",
    "bcf_path = \"/Volumes/data_files/LDGM/example/height/ldgms.GRCh38/1kg_ldgm.EUR.bcf\"\n",
    "tsv_output = \"ldgm_output.tsv\"\n",
    "\n",
    "bcf = pysam.VariantFile(bcf_path)\n",
    "\n",
    "with open(tsv_output, \"w\", newline='') as tsvfile:\n",
    "    writer = csv.writer(tsvfile, delimiter='\\t')\n",
    "    writer.writerow([\"CHROM\", \"POS\", \"ID\", \"EDGE\", \"W\"])\n",
    "\n",
    "    for rec in bcf.fetch():\n",
    "        chrom = rec.chrom\n",
    "        pos = rec.pos\n",
    "        vid = rec.id\n",
    "        edge = rec.info.get(\"EDGE\", \".\")\n",
    "        weight = rec.info.get(\"W\", \".\")\n",
    "        writer.writerow([chrom, pos, vid, edge, weight])"
   ]
  }
 ],
 "metadata": {
  "kernelspec": {
   "display_name": "Python 3",
   "language": "python",
   "name": "python3"
  },
  "language_info": {
   "codemirror_mode": {
    "name": "ipython",
    "version": 2
   },
   "file_extension": ".py",
   "mimetype": "text/x-python",
   "name": "python",
   "nbconvert_exporter": "python",
   "pygments_lexer": "ipython2",
   "version": "2.7.6"
  }
 },
 "nbformat": 4,
 "nbformat_minor": 5
}

{
 "cells": [
  {
   "cell_type": "code",
   "execution_count": 18,
   "id": "initial_id",
   "metadata": {
    "collapsed": true,
    "ExecuteTime": {
     "end_time": "2025-04-14T07:48:59.174357Z",
     "start_time": "2025-04-14T07:48:59.039453Z"
    }
   },
   "outputs": [
    {
     "name": "stdout",
     "output_type": "stream",
     "text": [
      "Keys in HDF5 file: ['blk_1', 'blk_10', 'blk_100', 'blk_101', 'blk_102', 'blk_103', 'blk_104', 'blk_105', 'blk_106', 'blk_107', 'blk_108', 'blk_109', 'blk_11', 'blk_110', 'blk_111', 'blk_112', 'blk_113', 'blk_114', 'blk_115', 'blk_116', 'blk_117', 'blk_118', 'blk_119', 'blk_12', 'blk_120', 'blk_121', 'blk_122', 'blk_13', 'blk_14', 'blk_15', 'blk_16', 'blk_17', 'blk_18', 'blk_19', 'blk_2', 'blk_20', 'blk_21', 'blk_22', 'blk_23', 'blk_24', 'blk_25', 'blk_26', 'blk_27', 'blk_28', 'blk_29', 'blk_3', 'blk_30', 'blk_31', 'blk_32', 'blk_33', 'blk_34', 'blk_35', 'blk_36', 'blk_37', 'blk_38', 'blk_39', 'blk_4', 'blk_40', 'blk_41', 'blk_42', 'blk_43', 'blk_44', 'blk_45', 'blk_46', 'blk_47', 'blk_48', 'blk_49', 'blk_5', 'blk_50', 'blk_51', 'blk_52', 'blk_53', 'blk_54', 'blk_55', 'blk_56', 'blk_57', 'blk_58', 'blk_59', 'blk_6', 'blk_60', 'blk_61', 'blk_62', 'blk_63', 'blk_64', 'blk_65', 'blk_66', 'blk_67', 'blk_68', 'blk_69', 'blk_7', 'blk_70', 'blk_71', 'blk_72', 'blk_73', 'blk_74', 'blk_75', 'blk_76', 'blk_77', 'blk_78', 'blk_79', 'blk_8', 'blk_80', 'blk_81', 'blk_82', 'blk_83', 'blk_84', 'blk_85', 'blk_86', 'blk_87', 'blk_88', 'blk_89', 'blk_9', 'blk_90', 'blk_91', 'blk_92', 'blk_93', 'blk_94', 'blk_95', 'blk_96', 'blk_97', 'blk_98', 'blk_99']\n",
      "Keys in blk_1: ['ldblk', 'snplist']\n",
      "ldblk shape (744, 744)\n",
      "SNPs shape (744,)\n"
     ]
    }
   ],
   "source": [
    "import h5py\n",
    "\n",
    "file_path = \"/Volumes/data_files/PRS-Project/prs-csx/ldblk_1kg/ldblk_1kg_eur/ldblk_1kg_chr3.hdf5\"\n",
    "\n",
    "with h5py.File(file_path, 'r') as f:\n",
    "    # 查看所有主键\n",
    "    print(\"Keys in HDF5 file:\", list(f.keys()))\n",
    "\n",
    "    blk = f['blk_1']\n",
    "    print(\"Keys in blk_1:\", list(blk.keys()))\n",
    "\n",
    "    ldblk = blk['ldblk'][:].astype(float)\n",
    "    print(\"ldblk shape\", ldblk.shape)\n",
    "    \n",
    "    snplist = blk['snplist'][:].astype(str)\n",
    "    print(\"SNPs shape\", snplist.shape)\n",
    "    \n",
    "    "
   ]
  },
  {
   "cell_type": "code",
   "execution_count": 17,
   "outputs": [
    {
     "data": {
      "text/plain": "array([[ 1.        , -0.133475  ,  0.873772  , ..., -0.0265946 ,\n        -0.0472122 , -0.00537382],\n       [-0.133475  ,  1.        , -0.282017  , ..., -0.026863  ,\n        -0.0525298 , -0.0172288 ],\n       [ 0.873772  , -0.282017  ,  1.        , ..., -0.0174415 ,\n        -0.0149816 , -0.0258    ],\n       ...,\n       [-0.0265946 , -0.026863  , -0.0174415 , ...,  1.        ,\n        -0.0886792 ,  0.0411239 ],\n       [-0.0472122 , -0.0525298 , -0.0149816 , ..., -0.0886792 ,\n         1.        , -0.216186  ],\n       [-0.00537382, -0.0172288 , -0.0258    , ...,  0.0411239 ,\n        -0.216186  ,  1.        ]])"
     },
     "execution_count": 17,
     "metadata": {},
     "output_type": "execute_result"
    }
   ],
   "source": [
    "ldblk"
   ],
   "metadata": {
    "collapsed": false,
    "ExecuteTime": {
     "end_time": "2025-04-14T07:47:02.766542Z",
     "start_time": "2025-04-14T07:47:02.757457Z"
    }
   },
   "id": "24ddf19e897b05b0"
  },
  {
   "cell_type": "code",
   "execution_count": null,
   "outputs": [],
   "source": [],
   "metadata": {
    "collapsed": false
   },
   "id": "11245162a9d8a190"
  }
 ],
 "metadata": {
  "kernelspec": {
   "display_name": "Python 3",
   "language": "python",
   "name": "python3"
  },
  "language_info": {
   "codemirror_mode": {
    "name": "ipython",
    "version": 2
   },
   "file_extension": ".py",
   "mimetype": "text/x-python",
   "name": "python",
   "nbconvert_exporter": "python",
   "pygments_lexer": "ipython2",
   "version": "2.7.6"
  }
 },
 "nbformat": 4,
 "nbformat_minor": 5
}

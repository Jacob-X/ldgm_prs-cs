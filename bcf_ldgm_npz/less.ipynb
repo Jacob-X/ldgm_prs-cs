{
 "cells": [
  {
   "cell_type": "code",
   "execution_count": null,
   "id": "initial_id",
   "metadata": {
    "collapsed": true
   },
   "outputs": [],
   "source": []
  },
  {
   "cell_type": "code",
   "execution_count": 5,
   "outputs": [
    {
     "name": "stdout",
     "output_type": "stream",
     "text": [
      "包含的字段： ['positions', 'diagonals', 'neighbors', 'weights']\n",
      "\n",
      "positions: [16141 16280 16474 16576 16719 16825 16856 16949 17005 17020]\n",
      "diagonals: [1.       1.147787 1.03214  1.011848 1.       1.089219 1.       2.189416\n",
      " 1.       2.454739]\n",
      "neighbors: [array([], dtype=int32) array([ 28, 198], dtype=int32)\n",
      " array([ 6979, 10314, 11394], dtype=int32)]\n",
      "weights: [array([], dtype=float32) array([-0.394797, -0.104057], dtype=float32)\n",
      " array([-0.108348, -0.093365, -0.102177], dtype=float32)]\n"
     ]
    }
   ],
   "source": [
    "import numpy as np\n",
    "\n",
    "# 你的 .npz 文件路径\n",
    "npz_path = \"/Volumes/data_files/LDGM/example/height/ldgm_npz/1kg_ldgm.AFR.npz\"\n",
    "\n",
    "# 加载文件\n",
    "data = np.load(npz_path, allow_pickle=True)\n",
    "\n",
    "# 查看里面包含哪些数组\n",
    "print(\"包含的字段：\", list(data.keys()))\n",
    "\n",
    "# 查看各字段的基本信息\n",
    "print(\"\\npositions:\", data['positions'][:10])\n",
    "print(\"diagonals:\", data['diagonals'][:10])\n",
    "print(\"neighbors:\", data['neighbors'][:3])\n",
    "print(\"weights:\", data['weights'][:3])"
   ],
   "metadata": {
    "collapsed": false,
    "ExecuteTime": {
     "end_time": "2025-04-11T07:11:17.476690Z",
     "start_time": "2025-04-11T07:09:30.601679Z"
    }
   },
   "id": "c280bcf106faa69c"
  },
  {
   "cell_type": "code",
   "execution_count": 6,
   "outputs": [
    {
     "data": {
      "text/plain": "NpzFile '/Volumes/data_files/LDGM/example/height/ldgm_npz/1kg_ldgm.AFR.npz' with keys: positions, diagonals, neighbors, weights"
     },
     "execution_count": 6,
     "metadata": {},
     "output_type": "execute_result"
    }
   ],
   "source": [
    "data"
   ],
   "metadata": {
    "collapsed": false,
    "ExecuteTime": {
     "end_time": "2025-04-11T07:11:17.550062Z",
     "start_time": "2025-04-11T07:11:17.482531Z"
    }
   },
   "id": "8c4fbcf9dd22ae9"
  },
  {
   "cell_type": "code",
   "execution_count": 5,
   "outputs": [],
   "source": [
    "import numpy as np\n",
    "\n",
    "def load_ldgm_edge_list(npz_path):\n",
    "    \"\"\"\n",
    "        positions (np.ndarray): positions 列表（与 index 一一对应）\n",
    "        diagonals (np.ndarray): 每个 SNP 的对角线权重\n",
    "        neighbors (list of np.ndarray): 每个 SNP 的邻居节点索引\n",
    "        weights (list of np.ndarray): 每个 SNP 的邻边权重（与 neighbors 对应）\n",
    "    \"\"\"\n",
    "    npz = np.load(npz_path, allow_pickle=True)\n",
    "\n",
    "    snp_list = npz['positions']\n",
    "    diagonal = npz['diagonals']\n",
    "    neighbors = npz['neighbors']\n",
    "    weights = npz['weights']\n",
    "\n",
    "    return snp_list, diagonal, neighbors, weights\n",
    "\n",
    "positions, diagonal, neighbors, weights = load_ldgm_edge_list('/Volumes/data_files/LDGM/example/height/ldgm_npz/1kg_ldgm.EUR.npz')"
   ],
   "metadata": {
    "collapsed": false,
    "ExecuteTime": {
     "end_time": "2025-04-11T08:34:00.841329Z",
     "start_time": "2025-04-11T08:33:11.677283Z"
    }
   },
   "id": "d8bcc7771a221712"
  },
  {
   "cell_type": "code",
   "execution_count": 7,
   "outputs": [
    {
     "data": {
      "text/plain": "array([array([ 6, 12, 21, 52], dtype=int32), array([12], dtype=int32),\n       array([], dtype=int32), ..., array([], dtype=int32),\n       array([], dtype=int32), array([], dtype=int32)], dtype=object)"
     },
     "execution_count": 7,
     "metadata": {},
     "output_type": "execute_result"
    }
   ],
   "source": [
    "neighbors"
   ],
   "metadata": {
    "collapsed": false,
    "ExecuteTime": {
     "end_time": "2025-04-11T08:34:19.949500Z",
     "start_time": "2025-04-11T08:34:19.925025Z"
    }
   },
   "id": "95c56f69eb21f447"
  },
  {
   "cell_type": "code",
   "execution_count": 8,
   "outputs": [
    {
     "data": {
      "text/plain": "array([   16719,    16841,    16856, ..., 50791885, 50791894, 50792792],\n      dtype=int32)"
     },
     "execution_count": 8,
     "metadata": {},
     "output_type": "execute_result"
    }
   ],
   "source": [
    "positions"
   ],
   "metadata": {
    "collapsed": false,
    "ExecuteTime": {
     "end_time": "2025-04-11T08:34:34.936535Z",
     "start_time": "2025-04-11T08:34:34.928039Z"
    }
   },
   "id": "3abffa48ba1e36c8"
  },
  {
   "cell_type": "code",
   "execution_count": 9,
   "outputs": [
    {
     "data": {
      "text/plain": "array([array([-0.319217, -0.466229, -0.066764, -0.247807], dtype=float32),\n       array([-0.914626], dtype=float32), array([], dtype=float32), ...,\n       array([], dtype=float32), array([], dtype=float32),\n       array([], dtype=float32)], dtype=object)"
     },
     "execution_count": 9,
     "metadata": {},
     "output_type": "execute_result"
    }
   ],
   "source": [
    "weights"
   ],
   "metadata": {
    "collapsed": false,
    "ExecuteTime": {
     "end_time": "2025-04-11T08:34:51.079028Z",
     "start_time": "2025-04-11T08:34:51.065172Z"
    }
   },
   "id": "c78c18f34332c007"
  },
  {
   "cell_type": "code",
   "execution_count": null,
   "outputs": [],
   "source": [],
   "metadata": {
    "collapsed": false
   },
   "id": "9f98440301b81c5b"
  }
 ],
 "metadata": {
  "kernelspec": {
   "display_name": "Python 3",
   "language": "python",
   "name": "python3"
  },
  "language_info": {
   "codemirror_mode": {
    "name": "ipython",
    "version": 2
   },
   "file_extension": ".py",
   "mimetype": "text/x-python",
   "name": "python",
   "nbconvert_exporter": "python",
   "pygments_lexer": "ipython2",
   "version": "2.7.6"
  }
 },
 "nbformat": 4,
 "nbformat_minor": 5
}

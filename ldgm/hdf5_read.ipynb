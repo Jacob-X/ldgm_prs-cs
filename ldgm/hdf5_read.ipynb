{
 "cells": [
  {
   "cell_type": "code",
   "execution_count": 2,
   "id": "initial_id",
   "metadata": {
    "collapsed": true,
    "ExecuteTime": {
     "end_time": "2025-04-15T06:58:37.597576Z",
     "start_time": "2025-04-15T06:58:37.120943Z"
    }
   },
   "outputs": [
    {
     "name": "stdout",
     "output_type": "stream",
     "text": [
      "Keys in HDF5 file: ['blk_858', 'blk_859']\n",
      "Keys in blk_1: ['ldblk', 'snplist']\n",
      "ldblk shape (8833, 8833)\n",
      "SNPs shape (8833,)\n"
     ]
    }
   ],
   "source": [
    "import h5py\n",
    "\n",
    "file_path = \"test.hdf5\"\n",
    "\n",
    "with h5py.File(file_path, 'r') as f:\n",
    "    # 查看所有主键\n",
    "    print(\"Keys in HDF5 file:\", list(f.keys()))\n",
    "\n",
    "    blk = f['blk_858']\n",
    "    print(\"Keys in blk_1:\", list(blk.keys()))\n",
    "\n",
    "    ldblk = blk['ldblk'][:].astype(float)\n",
    "    print(\"ldblk shape\", ldblk.shape)\n",
    "    \n",
    "    snplist = blk['snplist'][:].astype(str)\n",
    "    print(\"SNPs shape\", snplist.shape)\n",
    "    \n",
    "    "
   ]
  },
  {
   "cell_type": "code",
   "execution_count": 3,
   "outputs": [
    {
     "data": {
      "text/plain": "array([[ 6.05267286,  0.        ,  0.13937899, ...,  0.        ,\n         0.        ,  0.        ],\n       [ 0.        , 10.48305607, -4.19247723, ...,  0.        ,\n         0.        ,  0.        ],\n       [ 0.13937899, -4.19247723, 15.81142616, ...,  0.        ,\n         0.        ,  0.        ],\n       ...,\n       [ 0.        ,  0.        ,  0.        , ..., 15.41834354,\n         0.        ,  0.        ],\n       [ 0.        ,  0.        ,  0.        , ...,  0.        ,\n         2.11284709, -0.12514099],\n       [ 0.        ,  0.        ,  0.        , ...,  0.        ,\n        -0.12514099,  3.73976493]])"
     },
     "execution_count": 3,
     "metadata": {},
     "output_type": "execute_result"
    }
   ],
   "source": [
    "ldblk"
   ],
   "metadata": {
    "collapsed": false,
    "ExecuteTime": {
     "end_time": "2025-04-15T06:58:49.093213Z",
     "start_time": "2025-04-15T06:58:49.086309Z"
    }
   },
   "id": "11245162a9d8a190"
  },
  {
   "cell_type": "code",
   "execution_count": 4,
   "outputs": [
    {
     "data": {
      "text/plain": "array(['chr10:100332310', 'chr10:100332665', 'chr10:100332860', ...,\n       'chr10:104375359', 'chr10:104377428', 'chr10:104378781'],\n      dtype='<U15')"
     },
     "execution_count": 4,
     "metadata": {},
     "output_type": "execute_result"
    }
   ],
   "source": [
    "snplist"
   ],
   "metadata": {
    "collapsed": false,
    "ExecuteTime": {
     "end_time": "2025-04-15T07:03:28.415467Z",
     "start_time": "2025-04-15T07:03:28.408597Z"
    }
   },
   "id": "52a7fc25255b6909"
  },
  {
   "cell_type": "code",
   "execution_count": null,
   "outputs": [],
   "source": [],
   "metadata": {
    "collapsed": false
   },
   "id": "cd5cf4255620b8c9"
  }
 ],
 "metadata": {
  "kernelspec": {
   "display_name": "Python 3",
   "language": "python",
   "name": "python3"
  },
  "language_info": {
   "codemirror_mode": {
    "name": "ipython",
    "version": 2
   },
   "file_extension": ".py",
   "mimetype": "text/x-python",
   "name": "python",
   "nbconvert_exporter": "python",
   "pygments_lexer": "ipython2",
   "version": "2.7.6"
  }
 },
 "nbformat": 4,
 "nbformat_minor": 5
}
